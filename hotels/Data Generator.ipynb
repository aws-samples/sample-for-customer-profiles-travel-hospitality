{
 "cells": [
  {
   "cell_type": "code",
   "execution_count": null,
   "id": "6aece8ad-3432-4778-b68b-415836c02351",
   "metadata": {},
   "outputs": [],
   "source": [
    "%pip install Faker"
   ]
  },
  {
   "cell_type": "markdown",
   "id": "030ba8e8-a0d2-48f3-9046-49504a32e22a",
   "metadata": {},
   "source": [
    "### Import libraries"
   ]
  },
  {
   "cell_type": "code",
   "execution_count": null,
   "id": "d7075799-68ab-4915-a750-418c06c5263e",
   "metadata": {},
   "outputs": [],
   "source": [
    "import dg_functions\n",
    "import json\n",
    "import boto3\n",
    "import initialize as cp\n",
    "import uuid"
   ]
  },
  {
   "cell_type": "markdown",
   "id": "0422f837-081b-4cd9-8ede-7bed12cd7fea",
   "metadata": {},
   "source": [
    "### Generate Hotel Loyalty, Preferences, Hotel Bookings and Stay Revenue Objects"
   ]
  },
  {
   "cell_type": "code",
   "execution_count": null,
   "id": "2fc1b1ee-3ad9-42e3-918c-cd912968e7d8",
   "metadata": {},
   "outputs": [],
   "source": [
    "dataObj = dg_functions.generateHotelData()\n",
    "print(f\"LoyaltyID: {dataObj['Loyalty']['LoyaltyId']}\")\n",
    "print(f\"No of Bookings: {len(dataObj['Booking'])}\")\n",
    "print(f\"No of Stay Revenue: {len(dataObj['StayRevenue'])}\")"
   ]
  },
  {
   "cell_type": "markdown",
   "id": "bc255663-2c7c-4730-a29f-b212d3f0c6ff",
   "metadata": {},
   "source": [
    "### Send the Loyalty Object to Customer Profiles"
   ]
  },
  {
   "cell_type": "code",
   "execution_count": null,
   "id": "2906b166-abbf-43d3-b01e-064dd4ee7450",
   "metadata": {},
   "outputs": [],
   "source": [
    "cp.client.put_profile_object(\n",
    "    DomainName = cp.domainName,\n",
    "    ObjectTypeName = 'HotelLoyalty',\n",
    "    Object = json.dumps(dataObj['Loyalty'])\n",
    ")"
   ]
  },
  {
   "cell_type": "markdown",
   "id": "6d1cb62b-70cc-4009-a7e2-3b2cda5959a0",
   "metadata": {},
   "source": [
    "### Send the preferences data to Customer Profiles"
   ]
  },
  {
   "cell_type": "code",
   "execution_count": null,
   "id": "21c57fea-6d68-4fee-8ff8-efc235692987",
   "metadata": {},
   "outputs": [],
   "source": [
    "cp.client.put_profile_object(\n",
    "    DomainName = cp.domainName,\n",
    "    ObjectTypeName = 'HotelPreferences',\n",
    "    Object = json.dumps(dataObj['Preferences'])\n",
    ")"
   ]
  },
  {
   "cell_type": "markdown",
   "id": "79aebc7f-cb55-4c91-af01-13c9036718dc",
   "metadata": {},
   "source": [
    "### Send the booking records to Kinesis"
   ]
  },
  {
   "cell_type": "code",
   "execution_count": null,
   "id": "f372788b-a0dc-4e83-bc5a-3d2d48cefd3b",
   "metadata": {},
   "outputs": [],
   "source": [
    "kinesis_client = boto3.client('kinesis')\n",
    "stream_name = 'hotel-booking'\n",
    "partition_key = str(uuid.uuid4())"
   ]
  },
  {
   "cell_type": "code",
   "execution_count": null,
   "id": "7ea8086d-695c-4df9-8061-a822384f2c6b",
   "metadata": {},
   "outputs": [],
   "source": [
    "# Convert data to JSON and then encode to bytes\n",
    "bookings = dataObj['Booking']\n",
    "for booking in bookings:\n",
    "    data_as_bytes = json.dumps(booking).encode('utf-8')\n",
    "    response = kinesis_client.put_record(\n",
    "        StreamName=stream_name,\n",
    "        Data=data_as_bytes,\n",
    "        PartitionKey=partition_key\n",
    "    )"
   ]
  },
  {
   "cell_type": "markdown",
   "id": "9dbb2646-9a50-46f8-abf0-81957ecfdc32",
   "metadata": {},
   "source": [
    "### Send the Hotel Stay Revenue to Customer Profiles"
   ]
  },
  {
   "cell_type": "code",
   "execution_count": null,
   "id": "1d904b4d",
   "metadata": {},
   "outputs": [],
   "source": [
    "for stayReservation in dataObj['StayRevenue']:\n",
    "    cp.client.put_profile_object(\n",
    "        DomainName = cp.domainName,\n",
    "        ObjectTypeName = 'HotelStayRevenue',\n",
    "        Object = json.dumps(stayReservation)\n",
    "    )"
   ]
  }
 ],
 "metadata": {
  "kernelspec": {
   "display_name": "Python 3",
   "language": "python",
   "name": "python3"
  },
  "language_info": {
   "codemirror_mode": {
    "name": "ipython",
    "version": 3
   },
   "file_extension": ".py",
   "mimetype": "text/x-python",
   "name": "python",
   "nbconvert_exporter": "python",
   "pygments_lexer": "ipython3",
   "version": "3.12.2"
  }
 },
 "nbformat": 4,
 "nbformat_minor": 5
}
