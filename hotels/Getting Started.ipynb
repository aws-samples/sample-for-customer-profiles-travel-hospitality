{
 "cells": [
  {
   "cell_type": "markdown",
   "id": "439070c7-7730-4548-ae60-d552d0f6f223",
   "metadata": {},
   "source": [
    "### Imports"
   ]
  },
  {
   "cell_type": "code",
   "execution_count": null,
   "id": "93408be6-1d5d-4bf7-be9e-ce5f403ff673",
   "metadata": {},
   "outputs": [],
   "source": [
    "import boto3\n",
    "import json\n",
    "import time\n",
    "from botocore.exceptions import ClientError\n",
    "import cp_functions\n",
    "import initialize as cp"
   ]
  },
  {
   "cell_type": "markdown",
   "id": "149cab36-67a4-41d9-b838-c7ae69071802",
   "metadata": {},
   "source": [
    "### Initialize Customer Profiles\n",
    "<div class=\"alert alert-info\">Update the following information:\n",
    "<ul>\n",
    "    <li>Replace the <b>domainName</b> with your customer profile domain. It will begin with <i>amazon-connect-</i></li>\n",
    "    <li>Replace the region in the endpoint url</li>\n",
    "</ul>\n",
    "</div>"
   ]
  },
  {
   "cell_type": "markdown",
   "id": "df5df4d6-5198-49ad-9db2-11eac2d2fccf",
   "metadata": {},
   "source": [
    "![domain](../assets/cp_domain.png)"
   ]
  },
  {
   "cell_type": "markdown",
   "id": "53d74fa2-284a-4f58-b9ef-5ec62553f436",
   "metadata": {},
   "source": [
    "### Create the Object Type Mappings\n",
    "\n",
    "The below code snippet invokes the `put_profile_object_type` of customer profiles and creates an Object Type Mapping definition.<br />An Object Type mapping tells Customer Profiles how to ingest a specific type of data from a source application.<br />The object type mapping provides Customer Profiles with the following information:<br/>\n",
    "    - How data should be populated from the object and ingested into the standard object types such as _profile, _loyalty, _airBooking, etc. This [link](https://docs.aws.amazon.com/connect/latest/adminguide/object-type-mapping-definition-details.html) provides more details about the standard object types.<br />\n",
    "    - What fields should be indexed in the object and how those fields should then be used to assign objects of this type to a specific profile.<br /><br />Additionally, custom attributes can be created using the Attributes keyword. This [link](https://docs.aws.amazon.com/connect/latest/adminguide/create-object-type-mapping.html) shares an example.\n",
    "<br /><br />More information can be found [here](https://docs.aws.amazon.com/connect/latest/adminguide/create-object-type-mapping.html)"
   ]
  },
  {
   "cell_type": "code",
   "execution_count": null,
   "id": "ef16bb22",
   "metadata": {},
   "outputs": [],
   "source": [
    "#Hotels Object Type Mapping\n",
    "from importlib import reload\n",
    "reload(cp_functions)\n",
    "reload(cp)\n",
    "\n",
    "cp_functions.createObjectTypeMapping(cp.client, cp.domainName, 'Loyalty')\n",
    "cp_functions.createObjectTypeMapping(cp.client, cp.domainName, 'Booking')\n",
    "cp_functions.createObjectTypeMapping(cp.client, cp.domainName, 'Preferences')\n",
    "cp_functions.createObjectTypeMapping(cp.client, cp.domainName, 'StayRevenue')\n"
   ]
  }
 ],
 "metadata": {
  "kernelspec": {
   "display_name": "conda_python3",
   "language": "python",
   "name": "conda_python3"
  },
  "language_info": {
   "codemirror_mode": {
    "name": "ipython",
    "version": 3
   },
   "file_extension": ".py",
   "mimetype": "text/x-python",
   "name": "python",
   "nbconvert_exporter": "python",
   "pygments_lexer": "ipython3",
   "version": "3.10.18"
  }
 },
 "nbformat": 4,
 "nbformat_minor": 5
}
