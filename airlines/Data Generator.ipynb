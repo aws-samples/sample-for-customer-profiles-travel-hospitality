{
 "cells": [
  {
   "cell_type": "code",
   "execution_count": null,
   "id": "6aece8ad-3432-4778-b68b-415836c02351",
   "metadata": {},
   "outputs": [],
   "source": [
    "%pip install Faker"
   ]
  },
  {
   "cell_type": "markdown",
   "id": "359a73cd-c08e-4a41-82e0-1829b7868d54",
   "metadata": {},
   "source": [
    "### Initialize Customer Profiles\n",
    "<div class=\"alert alert-info\">Update the following information in the <i>initialize.py</i> file:\n",
    "<ul>\n",
    "    <li>Replace the <b>domainName</b> with your customer profile domain. It can be found within the AWS Console -> Amazon Connect -> Customer Profiles as seen in the below screenshot\n",
    "    <li>Replace the AWS Region in the endpoint url to match the region in which you created the Customer Profile domain</li>\n",
    "</ul>\n",
    "</div>"
   ]
  },
  {
   "cell_type": "markdown",
   "id": "8163f4b9-7f84-415b-8c67-1d2e3667dc59",
   "metadata": {},
   "source": [
    "![domain](../assets/cp_domain.png)"
   ]
  },
  {
   "cell_type": "markdown",
   "id": "030ba8e8-a0d2-48f3-9046-49504a32e22a",
   "metadata": {},
   "source": [
    "### Import Python libraries"
   ]
  },
  {
   "cell_type": "code",
   "execution_count": null,
   "id": "d7075799-68ab-4915-a750-418c06c5263e",
   "metadata": {},
   "outputs": [],
   "source": [
    "import dg_functions\n",
    "import json\n",
    "import uuid\n",
    "import boto3\n",
    "import initialize as cp"
   ]
  },
  {
   "cell_type": "markdown",
   "id": "0422f837-081b-4cd9-8ede-7bed12cd7fea",
   "metadata": {},
   "source": [
    "### Generate Loyalty, Preferences, and Air Bookings Objects"
   ]
  },
  {
   "cell_type": "code",
   "execution_count": null,
   "id": "2fc1b1ee-3ad9-42e3-918c-cd912968e7d8",
   "metadata": {},
   "outputs": [],
   "source": [
    "dataObj = dg_functions.generateData()\n",
    "print(f\"LoyaltyID: {dataObj['Loyalty']['LoyaltyId']}\")\n",
    "print(f\"No of Bookings: {len(dataObj['Booking'])}\")"
   ]
  },
  {
   "cell_type": "markdown",
   "id": "bc255663-2c7c-4730-a29f-b212d3f0c6ff",
   "metadata": {},
   "source": [
    "### Send the Loyalty Object to Customer Profiles"
   ]
  },
  {
   "cell_type": "code",
   "execution_count": null,
   "id": "2906b166-abbf-43d3-b01e-064dd4ee7450",
   "metadata": {},
   "outputs": [],
   "source": [
    "cp.client.put_profile_object(\n",
    "    DomainName = cp.domainName,\n",
    "    ObjectTypeName = 'Loyalty',\n",
    "    Object = json.dumps(dataObj['Loyalty'])\n",
    ")"
   ]
  },
  {
   "cell_type": "markdown",
   "id": "6d1cb62b-70cc-4009-a7e2-3b2cda5959a0",
   "metadata": {},
   "source": [
    "### Send the preferences data to Customer Profiles"
   ]
  },
  {
   "cell_type": "code",
   "execution_count": null,
   "id": "21c57fea-6d68-4fee-8ff8-efc235692987",
   "metadata": {},
   "outputs": [],
   "source": [
    "cp.client.put_profile_object(\n",
    "    DomainName = cp.domainName,\n",
    "    ObjectTypeName = 'Preferences',\n",
    "    Object = json.dumps(dataObj['Preferences'])\n",
    ")"
   ]
  },
  {
   "cell_type": "markdown",
   "id": "79aebc7f-cb55-4c91-af01-13c9036718dc",
   "metadata": {},
   "source": [
    "### Send the booking records to Kinesis"
   ]
  },
  {
   "cell_type": "code",
   "execution_count": null,
   "id": "f372788b-a0dc-4e83-bc5a-3d2d48cefd3b",
   "metadata": {},
   "outputs": [],
   "source": [
    "kinesis_client = boto3.client('kinesis')\n",
    "stream_name = 'airlines-input-cp-stream'\n",
    "partition_key = str(uuid.uuid4())"
   ]
  },
  {
   "cell_type": "code",
   "execution_count": null,
   "id": "7ea8086d-695c-4df9-8061-a822384f2c6b",
   "metadata": {},
   "outputs": [],
   "source": [
    "# Send each booking record to Kinesis data stream\n",
    "bookings = dataObj['Booking']\n",
    "for booking in bookings:\n",
    "    data_as_bytes = json.dumps(booking).encode('utf-8')\n",
    "    response = kinesis_client.put_record(\n",
    "        StreamName=stream_name,\n",
    "        Data=data_as_bytes,\n",
    "        PartitionKey=partition_key\n",
    "    )"
   ]
  },
  {
   "cell_type": "code",
   "execution_count": null,
   "id": "feaa76d6-7dc1-4a5f-b1be-1d0785e24f17",
   "metadata": {},
   "outputs": [],
   "source": []
  }
 ],
 "metadata": {
  "kernelspec": {
   "display_name": "conda_python3",
   "language": "python",
   "name": "conda_python3"
  },
  "language_info": {
   "codemirror_mode": {
    "name": "ipython",
    "version": 3
   },
   "file_extension": ".py",
   "mimetype": "text/x-python",
   "name": "python",
   "nbconvert_exporter": "python",
   "pygments_lexer": "ipython3",
   "version": "3.10.18"
  }
 },
 "nbformat": 4,
 "nbformat_minor": 5
}
