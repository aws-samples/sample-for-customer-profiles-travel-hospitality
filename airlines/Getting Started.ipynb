{
 "cells": [
  {
   "cell_type": "markdown",
   "id": "439070c7-7730-4548-ae60-d552d0f6f223",
   "metadata": {},
   "source": [
    "### Import statements for python helper functions"
   ]
  },
  {
   "cell_type": "code",
   "execution_count": null,
   "id": "93408be6-1d5d-4bf7-be9e-ce5f403ff673",
   "metadata": {},
   "outputs": [],
   "source": [
    "import cp_functions\n",
    "import initialize as cp"
   ]
  },
  {
   "cell_type": "markdown",
   "id": "149cab36-67a4-41d9-b838-c7ae69071802",
   "metadata": {},
   "source": [
    "### Initialize Customer Profiles\n",
    "<div class=\"alert alert-info\">Update the following information in the <i>initialize.py</i> file:\n",
    "<ul>\n",
    "    <li>Replace the <b>domainName</b> with your customer profile domain. It can be found within the AWS Console -> Amazon Connect -> Customer Profiles as seen in the below screenshot\n",
    "    <li>Replace the AWS Region in the endpoint url to match the region in which you created the Customer Profile domain</li>\n",
    "</ul>\n",
    "</div>"
   ]
  },
  {
   "cell_type": "markdown",
   "id": "df5df4d6-5198-49ad-9db2-11eac2d2fccf",
   "metadata": {},
   "source": [
    "![domain](../assets/cp_domain.png)"
   ]
  },
  {
   "cell_type": "markdown",
   "id": "53d74fa2-284a-4f58-b9ef-5ec62553f436",
   "metadata": {},
   "source": [
    "### Create the Object Type Mappings\n",
    "\n",
    "The below code snippet invokes the `put_profile_object_type` of customer profiles and creates an Object Type Mapping definition.<br />An Object Type mapping tells Customer Profiles how to ingest a specific type of data from a source application.<br />The object type mapping provides Customer Profiles with the following information:<br/>\n",
    "    - How data should be populated from the source object and ingested into the Customer Profile standard object types such as _profile, _loyalty, _airBooking, etc. This [link](https://docs.aws.amazon.com/connect/latest/adminguide/object-type-mapping-definition-details.html) provides more details about the standard object types.<br />\n",
    "    - What fields should be indexed in the object and how those fields should then be used to assign objects of this type to a specific profile.<br />-Note: while standard object types and attributes cover a wide range, custom attributes can be created using the Attributes keyword. This [link](https://docs.aws.amazon.com/connect/latest/adminguide/create-object-type-mapping.html) shares an example.\n",
    "<br /><br />More information on Object Type Mappings can be found [here](https://docs.aws.amazon.com/connect/latest/adminguide/create-object-type-mapping.html)"
   ]
  },
  {
   "cell_type": "code",
   "execution_count": null,
   "id": "bc900028-0098-4ae4-8671-c0f6a2b7708a",
   "metadata": {},
   "outputs": [],
   "source": [
    "cp_functions.createObjectTypeMapping(cp.client, cp.domainName, 'Loyalty')\n",
    "cp_functions.createObjectTypeMapping(cp.client, cp.domainName, 'Booking')\n",
    "cp_functions.createObjectTypeMapping(cp.client, cp.domainName, 'Preferences')"
   ]
  },
  {
   "cell_type": "markdown",
   "id": "fe469667-99fe-4984-acbd-0cf710d8cdfa",
   "metadata": {},
   "source": [
    "### Create Calculated Attributes\n",
    "\n",
    "The below code snippet invokes the `create_calculated_attribute_definition` of customer profiles and creates a Calculated Attribute. Calculated Attributes are used to define business logic to transform customer profile data into actionable data points, such as calculate the number of flights taken by the customer in the last year, or calculate the lifetime value of the customer.\n",
    "\n",
    "By using calculated attributes, one can identify key attributes about customer’s past behavior, behavior patterns, and customer value."
   ]
  },
  {
   "cell_type": "code",
   "execution_count": null,
   "id": "9642877b-feaa-4d22-b218-8d6de9488deb",
   "metadata": {},
   "outputs": [],
   "source": [
    "cp_functions.createCalculatedAttribute(cp.client, cp.domainName, 'CA_TotalDollarsSpentInAYear')"
   ]
  },
  {
   "cell_type": "code",
   "execution_count": null,
   "id": "264ffbca-815b-46c6-ad82-9fa2e972480c",
   "metadata": {},
   "outputs": [],
   "source": [
    "cp_functions.createCalculatedAttribute(cp.client, cp.domainName, 'CA_DayOfTravel')"
   ]
  }
 ],
 "metadata": {
  "kernelspec": {
   "display_name": "conda_python3",
   "language": "python",
   "name": "conda_python3"
  },
  "language_info": {
   "codemirror_mode": {
    "name": "ipython",
    "version": 3
   },
   "file_extension": ".py",
   "mimetype": "text/x-python",
   "name": "python",
   "nbconvert_exporter": "python",
   "pygments_lexer": "ipython3",
   "version": "3.10.18"
  }
 },
 "nbformat": 4,
 "nbformat_minor": 5
}
